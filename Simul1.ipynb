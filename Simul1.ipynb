{
  "nbformat": 4,
  "nbformat_minor": 0,
  "metadata": {
    "colab": {
      "name": "Simul1.ipynb",
      "version": "0.3.2",
      "provenance": [],
      "collapsed_sections": [],
      "include_colab_link": true
    },
    "kernelspec": {
      "name": "python3",
      "display_name": "Python 3"
    },
    "accelerator": "GPU"
  },
  "cells": [
    {
      "cell_type": "markdown",
      "metadata": {
        "id": "view-in-github",
        "colab_type": "text"
      },
      "source": [
        "<a href=\"https://colab.research.google.com/github/AshuKV/DCGAN-tensorflow/blob/master/Simul1.ipynb\" target=\"_parent\"><img src=\"https://colab.research.google.com/assets/colab-badge.svg\" alt=\"Open In Colab\"/></a>"
      ]
    },
    {
      "cell_type": "code",
      "metadata": {
        "id": "PO0WLW1e1NYb",
        "colab_type": "code",
        "colab": {}
      },
      "source": [
        "import pandas as pd\n",
        "import numpy as np"
      ],
      "execution_count": 0,
      "outputs": []
    },
    {
      "cell_type": "code",
      "metadata": {
        "id": "5_JBOfVp1SUl",
        "colab_type": "code",
        "colab": {}
      },
      "source": [
        "from keras.models import Sequential\n",
        "from keras.optimizers import Adam\n",
        "from keras.callbacks import ModelCheckpoint\n",
        "from keras.layers import Dense,Conv2D,MaxPooling2D,Dropout,Flatten,Lambda"
      ],
      "execution_count": 0,
      "outputs": []
    },
    {
      "cell_type": "markdown",
      "metadata": {
        "id": "HnUk9UiL1Sti",
        "colab_type": "text"
      },
      "source": [
        ""
      ]
    },
    {
      "cell_type": "code",
      "metadata": {
        "id": "42GDUZE66Chy",
        "colab_type": "code",
        "outputId": "d196de67-1ad1-4474-cdc3-fea56e23b192",
        "colab": {
          "base_uri": "https://localhost:8080/",
          "height": 54
        }
      },
      "source": [
        "!pip install --user --upgrade scikit-learn==0.18.0"
      ],
      "execution_count": 13,
      "outputs": [
        {
          "output_type": "stream",
          "text": [
            "Requirement already up-to-date: scikit-learn==0.18.0 in /root/.local/lib/python3.6/site-packages (0.18)\n"
          ],
          "name": "stdout"
        }
      ]
    },
    {
      "cell_type": "code",
      "metadata": {
        "id": "_miH-gi94S8C",
        "colab_type": "code",
        "colab": {}
      },
      "source": [
        "from sklearn.model_selection import train_test_split\n"
      ],
      "execution_count": 0,
      "outputs": []
    },
    {
      "cell_type": "code",
      "metadata": {
        "id": "zMnmTAOm4WkO",
        "colab_type": "code",
        "colab": {}
      },
      "source": [
        "import argparse\n",
        "import os"
      ],
      "execution_count": 0,
      "outputs": []
    },
    {
      "cell_type": "code",
      "metadata": {
        "id": "vGk5Q04Q7LML",
        "colab_type": "code",
        "colab": {}
      },
      "source": [
        "np.random.seed(1)"
      ],
      "execution_count": 0,
      "outputs": []
    },
    {
      "cell_type": "markdown",
      "metadata": {
        "id": "7Hsc8TZd8UeW",
        "colab_type": "text"
      },
      "source": [
        ""
      ]
    },
    {
      "cell_type": "code",
      "metadata": {
        "id": "bLks-xSV7Twt",
        "colab_type": "code",
        "colab": {}
      },
      "source": [
        "def load(arg):\n",
        "  df=pd.read_csv(os.path.join(os.getcwd(),args.data_dir,\"Driving.csv\"),names=['center','left','right','steer','throttle','reverse','speed'])\n",
        "  X=df[['cetre','left','right']].values\n",
        "  y=df['steering'].values\n",
        "  X_tr,X_va,Y_tr,Y_va=train_test_split(X,y,test_size=args.test_size,random_state=0)\n",
        "  return X_tarin,X_valid,y_train,y_valid"
      ],
      "execution_count": 0,
      "outputs": []
    },
    {
      "cell_type": "code",
      "metadata": {
        "id": "oh0LwLI-9ePx",
        "colab_type": "code",
        "colab": {}
      },
      "source": [
        "def build(args):\n",
        "  model=Sequential()\n",
        "  model.add(ConvD(12,5,5,activation='elu',subsample=(2,2)))\n",
        "  model.add(ConvD(24,5,5,activation='elu',subsample=(2,2)))\n",
        "  model.add(ConvD(36,5,5,activation='elu',subsample=(2,2)))\n",
        "  model.add(ConvD(48,5,5,activation='elu'))\n",
        "  model.add(ConvD(64,5,5,activation='elu'))\n",
        "  model.add(Dropout(args.keep_prob))\n",
        "  model.add(Flatten())\n",
        "  model.add(Dense(100,activation='elu'))\n",
        "  model.add(Dense(50,activation='elu'))\n",
        "  model.add(Dense(10,activation='elu'))\n",
        "  moedl.add(DEnse(1))\n",
        "  model.summary()\n",
        "  return model"
      ],
      "execution_count": 0,
      "outputs": []
    },
    {
      "cell_type": "code",
      "metadata": {
        "id": "8ueA6zMTLJJq",
        "colab_type": "code",
        "colab": {}
      },
      "source": [
        "def train(model,arg,X_train,X_valid,y_train,y_valid):\n",
        "  checkpoint=ModelCheckpoint('model-{epoch:03d}.h5',\n",
        "                             monitor=\"val_loss\",\n",
        "                             verbose=0,\n",
        "                             save_best_only=args.save_best_only,\n",
        "                             mode='auto')\n",
        "  model.compile(loss=\"mean_squared_error\",\n",
        "                optimizere=Adam(lr=args.learning_rate))\n",
        "  model.fit_generator(batch_generator(args.data_dir,X_tr,y_tr,args,batch_size,True),\n",
        "                      args.samples_per_epoch,\n",
        "                      args.nb_epoch,\n",
        "                      max_q_size=1,\n",
        "                      validation_data=batch_generator(args.data_dir,X_va,y_va,args,batch_size,False),\n",
        "                      nb_val_samples=len(X_valid),\n",
        "                      callbacks=[checkpoint],\n",
        "                      verbose=1)\n",
        "  "
      ],
      "execution_count": 0,
      "outputs": []
    },
    {
      "cell_type": "code",
      "metadata": {
        "id": "xHfV6wUmN3GF",
        "colab_type": "code",
        "colab": {}
      },
      "source": [
        ""
      ],
      "execution_count": 0,
      "outputs": []
    }
  ]
}